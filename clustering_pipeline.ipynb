{
 "cells": [
  {
   "cell_type": "markdown",
   "metadata": {},
   "source": [
    "Hello World"
   ]
  },
  {
   "cell_type": "code",
   "execution_count": 1,
   "metadata": {},
   "outputs": [],
   "source": [
    "import pandas as pd\n",
    "import geopandas as gpd"
   ]
  },
  {
   "cell_type": "code",
   "execution_count": 2,
   "metadata": {},
   "outputs": [
    {
     "data": {
      "text/html": [
       "<div>\n",
       "<style scoped>\n",
       "    .dataframe tbody tr th:only-of-type {\n",
       "        vertical-align: middle;\n",
       "    }\n",
       "\n",
       "    .dataframe tbody tr th {\n",
       "        vertical-align: top;\n",
       "    }\n",
       "\n",
       "    .dataframe thead th {\n",
       "        text-align: right;\n",
       "    }\n",
       "</style>\n",
       "<table border=\"1\" class=\"dataframe\">\n",
       "  <thead>\n",
       "    <tr style=\"text-align: right;\">\n",
       "      <th></th>\n",
       "      <th>id</th>\n",
       "      <th>municipality</th>\n",
       "      <th>district</th>\n",
       "      <th>geometry</th>\n",
       "    </tr>\n",
       "  </thead>\n",
       "  <tbody>\n",
       "    <tr>\n",
       "      <th>0</th>\n",
       "      <td>10</td>\n",
       "      <td>Остров Декабристов</td>\n",
       "      <td>Василеостровский</td>\n",
       "      <td>MULTIPOLYGON (((30.24774 59.94989, 30.24657 59...</td>\n",
       "    </tr>\n",
       "    <tr>\n",
       "      <th>1</th>\n",
       "      <td>16</td>\n",
       "      <td>округ Морской</td>\n",
       "      <td>Василеостровский</td>\n",
       "      <td>MULTIPOLYGON (((30.21620 59.94924, 30.22653 59...</td>\n",
       "    </tr>\n",
       "    <tr>\n",
       "      <th>2</th>\n",
       "      <td>46</td>\n",
       "      <td>Васильевский</td>\n",
       "      <td>Василеостровский</td>\n",
       "      <td>MULTIPOLYGON (((30.26647 59.94468, 30.27092 59...</td>\n",
       "    </tr>\n",
       "    <tr>\n",
       "      <th>3</th>\n",
       "      <td>67</td>\n",
       "      <td>округ Морской</td>\n",
       "      <td>Василеостровский</td>\n",
       "      <td>MULTIPOLYGON (((30.20804 59.93856, 30.20854 59...</td>\n",
       "    </tr>\n",
       "    <tr>\n",
       "      <th>4</th>\n",
       "      <td>112</td>\n",
       "      <td>Васильевский</td>\n",
       "      <td>Василеостровский</td>\n",
       "      <td>MULTIPOLYGON (((30.28385 59.94769, 30.28505 59...</td>\n",
       "    </tr>\n",
       "  </tbody>\n",
       "</table>\n",
       "</div>"
      ],
      "text/plain": [
       "    id        municipality          district  \\\n",
       "0   10  Остров Декабристов  Василеостровский   \n",
       "1   16       округ Морской  Василеостровский   \n",
       "2   46        Васильевский  Василеостровский   \n",
       "3   67       округ Морской  Василеостровский   \n",
       "4  112        Васильевский  Василеостровский   \n",
       "\n",
       "                                            geometry  \n",
       "0  MULTIPOLYGON (((30.24774 59.94989, 30.24657 59...  \n",
       "1  MULTIPOLYGON (((30.21620 59.94924, 30.22653 59...  \n",
       "2  MULTIPOLYGON (((30.26647 59.94468, 30.27092 59...  \n",
       "3  MULTIPOLYGON (((30.20804 59.93856, 30.20854 59...  \n",
       "4  MULTIPOLYGON (((30.28385 59.94769, 30.28505 59...  "
      ]
     },
     "execution_count": 2,
     "metadata": {},
     "output_type": "execute_result"
    }
   ],
   "source": [
    "data = gpd.read_file('data/source_data/blocks.geojson')\n",
    "data.head()"
   ]
  },
  {
   "cell_type": "code",
   "execution_count": null,
   "metadata": {},
   "outputs": [],
   "source": []
  }
 ],
 "metadata": {
  "kernelspec": {
   "display_name": "Python 3 (ipykernel)",
   "language": "python",
   "name": "python3"
  },
  "language_info": {
   "codemirror_mode": {
    "name": "ipython",
    "version": 3
   },
   "file_extension": ".py",
   "mimetype": "text/x-python",
   "name": "python",
   "nbconvert_exporter": "python",
   "pygments_lexer": "ipython3",
   "version": "3.9.5"
  }
 },
 "nbformat": 4,
 "nbformat_minor": 4
}