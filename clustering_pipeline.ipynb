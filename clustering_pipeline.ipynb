{
 "cells": [
  {
   "cell_type": "markdown",
   "metadata": {},
   "source": [
    "<b>Задача:</b><br> \r\n",
    "выполнить кластеризацию кварталов Васильевского острова на основании предоставленных данных о границах кварталов и \r\n",
    "сервисах разных видов, расположенных на территории кварталов; также необходимо обосновать конечный выбор количества кластеров\r\n",
    "и интерпретировать результаты кластеризац<br><br>\n",
    "<b>Исходные данные:</b><\n",
    "в качестве исходных данных из Платформы городских данных Института дизайна и урбанистики ИТМО выгружены следующие массивы данных:\r\n",
    "- blocks.geojson - данные о кварталах Васильевского острова;\r\n",
    "- cafe.geojson - данные о местах общественного питания типа кафе;\r\n",
    "- restaurant.geojson - данные о местах общественного питания типа ресторан;\r\n",
    "- kindergarten.geojson - данные о детских садах;\r\n",
    "- school.geojson - данные о школах;\r\n",
    "- library.geojson - данные о библиотеках;\r\n",
    "- museum.geojson - данные о музеях;\r\n",
    "- pharmacy.geojson - данные об аптеках;\r\n",
    "- polyclinic.geojson - данные о поликлинниках;\r\n",
    "- shopping_center.geojson - данные о торговых центрах;\r\n",
    "- supermarket.geojson - данные о супермаркетах;\r\n",
    "- building.geojson - данные о зданиях (жилых и нежилых);\r\n",
    "- cemetery.geojson - данные о кладбищах;\r\n",
    "- znop.geojson - данные о зелёных насаждениях.bх насаждениях.и. "
   ]
  },
  {
   "cell_type": "code",
   "execution_count": 1,
   "metadata": {},
   "outputs": [],
   "source": [
    "import pandas as pd\n",
    "import geopandas as gpd"
   ]
  },
  {
   "cell_type": "markdown",
   "metadata": {},
   "source": [
    "<b>1 Исследовательский анализ данных</b>"
   ]
  },
  {
   "cell_type": "markdown",
   "metadata": {},
   "source": [
    "<b>1.1 Данные о кварталах</b>"
   ]
  },
  {
   "cell_type": "code",
   "execution_count": 2,
   "metadata": {},
   "outputs": [
    {
     "data": {
      "text/html": [
       "<div>\n",
       "<style scoped>\n",
       "    .dataframe tbody tr th:only-of-type {\n",
       "        vertical-align: middle;\n",
       "    }\n",
       "\n",
       "    .dataframe tbody tr th {\n",
       "        vertical-align: top;\n",
       "    }\n",
       "\n",
       "    .dataframe thead th {\n",
       "        text-align: right;\n",
       "    }\n",
       "</style>\n",
       "<table border=\"1\" class=\"dataframe\">\n",
       "  <thead>\n",
       "    <tr style=\"text-align: right;\">\n",
       "      <th></th>\n",
       "      <th>id</th>\n",
       "      <th>municipality</th>\n",
       "      <th>district</th>\n",
       "      <th>geometry</th>\n",
       "    </tr>\n",
       "  </thead>\n",
       "  <tbody>\n",
       "    <tr>\n",
       "      <th>0</th>\n",
       "      <td>10</td>\n",
       "      <td>Остров Декабристов</td>\n",
       "      <td>Василеостровский</td>\n",
       "      <td>MULTIPOLYGON (((30.24774 59.94989, 30.24657 59...</td>\n",
       "    </tr>\n",
       "    <tr>\n",
       "      <th>1</th>\n",
       "      <td>16</td>\n",
       "      <td>округ Морской</td>\n",
       "      <td>Василеостровский</td>\n",
       "      <td>MULTIPOLYGON (((30.21620 59.94924, 30.22653 59...</td>\n",
       "    </tr>\n",
       "    <tr>\n",
       "      <th>2</th>\n",
       "      <td>46</td>\n",
       "      <td>Васильевский</td>\n",
       "      <td>Василеостровский</td>\n",
       "      <td>MULTIPOLYGON (((30.26647 59.94468, 30.27092 59...</td>\n",
       "    </tr>\n",
       "    <tr>\n",
       "      <th>3</th>\n",
       "      <td>67</td>\n",
       "      <td>округ Морской</td>\n",
       "      <td>Василеостровский</td>\n",
       "      <td>MULTIPOLYGON (((30.20804 59.93856, 30.20854 59...</td>\n",
       "    </tr>\n",
       "    <tr>\n",
       "      <th>4</th>\n",
       "      <td>112</td>\n",
       "      <td>Васильевский</td>\n",
       "      <td>Василеостровский</td>\n",
       "      <td>MULTIPOLYGON (((30.28385 59.94769, 30.28505 59...</td>\n",
       "    </tr>\n",
       "  </tbody>\n",
       "</table>\n",
       "</div>"
      ],
      "text/plain": [
       "    id        municipality          district  \\\n",
       "0   10  Остров Декабристов  Василеостровский   \n",
       "1   16       округ Морской  Василеостровский   \n",
       "2   46        Васильевский  Василеостровский   \n",
       "3   67       округ Морской  Василеостровский   \n",
       "4  112        Васильевский  Василеостровский   \n",
       "\n",
       "                                            geometry  \n",
       "0  MULTIPOLYGON (((30.24774 59.94989, 30.24657 59...  \n",
       "1  MULTIPOLYGON (((30.21620 59.94924, 30.22653 59...  \n",
       "2  MULTIPOLYGON (((30.26647 59.94468, 30.27092 59...  \n",
       "3  MULTIPOLYGON (((30.20804 59.93856, 30.20854 59...  \n",
       "4  MULTIPOLYGON (((30.28385 59.94769, 30.28505 59...  "
      ]
     },
     "execution_count": 2,
     "metadata": {},
     "output_type": "execute_result"
    }
   ],
   "source": [
    "blocks_data = gpd.read_file('data/source_data/blocks.geojson')\n",
    "blocks_data.head()"
   ]
  },
  {
   "cell_type": "code",
   "execution_count": 3,
   "metadata": {},
   "outputs": [
    {
     "name": "stdout",
     "output_type": "stream",
     "text": [
      "<class 'geopandas.geodataframe.GeoDataFrame'>\n",
      "RangeIndex: 200 entries, 0 to 199\n",
      "Data columns (total 4 columns):\n",
      " #   Column        Non-Null Count  Dtype   \n",
      "---  ------        --------------  -----   \n",
      " 0   id            200 non-null    int64   \n",
      " 1   municipality  200 non-null    object  \n",
      " 2   district      200 non-null    object  \n",
      " 3   geometry      200 non-null    geometry\n",
      "dtypes: geometry(1), int64(1), object(2)\n",
      "memory usage: 6.4+ KB\n"
     ]
    }
   ],
   "source": [
    "blocks_data.info()"
   ]
  },
  {
   "cell_type": "code",
   "execution_count": 4,
   "metadata": {},
   "outputs": [
    {
     "name": "stdout",
     "output_type": "stream",
     "text": [
      "Представлены кварталы районов:  ['Василеостровский']\n"
     ]
    }
   ],
   "source": [
    "print('Представлены кварталы районов: ', blocks_data.district.unique())"
   ]
  },
  {
   "cell_type": "markdown",
   "metadata": {},
   "source": [
    "В выборке содержатся данные 200 кварталов, пропусков в данных нет, геометрически кварталы представляют собой полигоны.\r\n",
    "Признак district может быть удален (все кварталы относятся к Василеостровскому району), признак municipality также\r\n",
    "следует удалить, так как кластеризация требуется на основании данных о сервисах. В итоге для дальнейшего анализа\r\n",
    "будут использоваться данные о номерах кварталов (id) и их геометрии (geometry). "
   ]
  },
  {
   "cell_type": "code",
   "execution_count": 5,
   "metadata": {},
   "outputs": [],
   "source": [
    "blocks_data = blocks_data[['id', 'geometry']]"
   ]
  },
  {
   "cell_type": "markdown",
   "metadata": {},
   "source": [
    "<b>1.2 Данные о местах общественного питания типа кафе</b>"
   ]
  },
  {
   "cell_type": "code",
   "execution_count": 6,
   "metadata": {},
   "outputs": [
    {
     "data": {
      "text/html": [
       "<div>\n",
       "<style scoped>\n",
       "    .dataframe tbody tr th:only-of-type {\n",
       "        vertical-align: middle;\n",
       "    }\n",
       "\n",
       "    .dataframe tbody tr th {\n",
       "        vertical-align: top;\n",
       "    }\n",
       "\n",
       "    .dataframe thead th {\n",
       "        text-align: right;\n",
       "    }\n",
       "</style>\n",
       "<table border=\"1\" class=\"dataframe\">\n",
       "  <thead>\n",
       "    <tr style=\"text-align: right;\">\n",
       "      <th></th>\n",
       "      <th>yand_adr</th>\n",
       "      <th>name</th>\n",
       "      <th>type</th>\n",
       "      <th>id</th>\n",
       "      <th>amenity</th>\n",
       "      <th>x</th>\n",
       "      <th>y</th>\n",
       "      <th>geometry</th>\n",
       "    </tr>\n",
       "  </thead>\n",
       "  <tbody>\n",
       "    <tr>\n",
       "      <th>0</th>\n",
       "      <td>Россия, Санкт-Петербург, Биржевой переулок, 2</td>\n",
       "      <td>Эдда</td>\n",
       "      <td>кафе</td>\n",
       "      <td>node/3168670772</td>\n",
       "      <td>cafe</td>\n",
       "      <td>59.945017</td>\n",
       "      <td>30.293563</td>\n",
       "      <td>POINT (30.29356 59.94502)</td>\n",
       "    </tr>\n",
       "    <tr>\n",
       "      <th>1</th>\n",
       "      <td>Россия, Санкт-Петербург, 6-я линия Васильевско...</td>\n",
       "      <td>Ферма</td>\n",
       "      <td>кафе</td>\n",
       "      <td>node/6355459185</td>\n",
       "      <td>cafe</td>\n",
       "      <td>59.940343</td>\n",
       "      <td>30.282262</td>\n",
       "      <td>POINT (30.28226 59.94034)</td>\n",
       "    </tr>\n",
       "    <tr>\n",
       "      <th>2</th>\n",
       "      <td>Россия, Санкт-Петербург, 1-я линия Васильевско...</td>\n",
       "      <td>Столовая</td>\n",
       "      <td>столовая</td>\n",
       "      <td>node/5235334623</td>\n",
       "      <td>cafe</td>\n",
       "      <td>59.943422</td>\n",
       "      <td>30.287877</td>\n",
       "      <td>POINT (30.28788 59.94342)</td>\n",
       "    </tr>\n",
       "    <tr>\n",
       "      <th>3</th>\n",
       "      <td>Россия, Санкт-Петербург, 8-я линия Васильевско...</td>\n",
       "      <td>Рамен Шифу</td>\n",
       "      <td>кафе</td>\n",
       "      <td>node/963944161</td>\n",
       "      <td>cafe</td>\n",
       "      <td>59.937607</td>\n",
       "      <td>30.282020</td>\n",
       "      <td>POINT (30.28202 59.93761)</td>\n",
       "    </tr>\n",
       "    <tr>\n",
       "      <th>4</th>\n",
       "      <td>Россия, Санкт-Петербург, улица Кораблестроител...</td>\n",
       "      <td>Небесный ФУД Город</td>\n",
       "      <td>кафе</td>\n",
       "      <td>node/825152812</td>\n",
       "      <td>cafe</td>\n",
       "      <td>59.952493</td>\n",
       "      <td>30.212346</td>\n",
       "      <td>POINT (30.21235 59.95249)</td>\n",
       "    </tr>\n",
       "  </tbody>\n",
       "</table>\n",
       "</div>"
      ],
      "text/plain": [
       "                                            yand_adr                name  \\\n",
       "0      Россия, Санкт-Петербург, Биржевой переулок, 2                Эдда   \n",
       "1  Россия, Санкт-Петербург, 6-я линия Васильевско...               Ферма   \n",
       "2  Россия, Санкт-Петербург, 1-я линия Васильевско...            Столовая   \n",
       "3  Россия, Санкт-Петербург, 8-я линия Васильевско...          Рамен Шифу   \n",
       "4  Россия, Санкт-Петербург, улица Кораблестроител...  Небесный ФУД Город   \n",
       "\n",
       "       type               id amenity          x          y  \\\n",
       "0      кафе  node/3168670772    cafe  59.945017  30.293563   \n",
       "1      кафе  node/6355459185    cafe  59.940343  30.282262   \n",
       "2  столовая  node/5235334623    cafe  59.943422  30.287877   \n",
       "3      кафе   node/963944161    cafe  59.937607  30.282020   \n",
       "4      кафе   node/825152812    cafe  59.952493  30.212346   \n",
       "\n",
       "                    geometry  \n",
       "0  POINT (30.29356 59.94502)  \n",
       "1  POINT (30.28226 59.94034)  \n",
       "2  POINT (30.28788 59.94342)  \n",
       "3  POINT (30.28202 59.93761)  \n",
       "4  POINT (30.21235 59.95249)  "
      ]
     },
     "execution_count": 6,
     "metadata": {},
     "output_type": "execute_result"
    }
   ],
   "source": [
    "cafe_data = gpd.read_file('data/source_data/cafe.geojson')\n",
    "cafe_data.head()"
   ]
  },
  {
   "cell_type": "code",
   "execution_count": 7,
   "metadata": {},
   "outputs": [
    {
     "name": "stdout",
     "output_type": "stream",
     "text": [
      "<class 'geopandas.geodataframe.GeoDataFrame'>\n",
      "RangeIndex: 112 entries, 0 to 111\n",
      "Data columns (total 8 columns):\n",
      " #   Column    Non-Null Count  Dtype   \n",
      "---  ------    --------------  -----   \n",
      " 0   yand_adr  112 non-null    object  \n",
      " 1   name      112 non-null    object  \n",
      " 2   type      112 non-null    object  \n",
      " 3   id        112 non-null    object  \n",
      " 4   amenity   112 non-null    object  \n",
      " 5   x         112 non-null    float64 \n",
      " 6   y         112 non-null    float64 \n",
      " 7   geometry  112 non-null    geometry\n",
      "dtypes: float64(2), geometry(1), object(5)\n",
      "memory usage: 7.1+ KB\n"
     ]
    }
   ],
   "source": [
    "cafe_data.info()"
   ]
  },
  {
   "cell_type": "code",
   "execution_count": 8,
   "metadata": {},
   "outputs": [
    {
     "name": "stdout",
     "output_type": "stream",
     "text": [
      "Типы кафе:  ['кафе' 'столовая']\n"
     ]
    }
   ],
   "source": [
    "print('Типы кафе: ', cafe_data['type'].unique())"
   ]
  },
  {
   "cell_type": "markdown",
   "metadata": {},
   "source": [
    "В выборке содержатся данные 112 кафе и столовых, пропусков в данных нет, геометрически сервисы этого типа представляют собой точки.\r\n",
    "В итоге для дальнейшего анализа будут использоваться данные о номерах кафе (id) и их геометрии (geometry)."
   ]
  },
  {
   "cell_type": "markdown",
   "metadata": {},
   "source": [
    "<b>1.3 Данные о прочих \"точечных\" сервисах</b>"
   ]
  },
  {
   "cell_type": "markdown",
   "metadata": {},
   "source": [
    "Исследовательский анализ показал (эта часть не включается в ноутбук для сокращения его размера), что к сервисам с геометрией точки также \n",
    "относятся датасеты restaurant.geojson (70 сервисов), kindergarten.geojson (49 сервисов), school.geojson (39 сервисов),\r\n",
    "library.geojson (13 сервисов), museum.geojson (26 сервисов), pharmacy.geojson (42 сервиса), polyclinic.geojson (8 сервисов) \r\n",
    "shopping_center.geojson (3 сервиса), supermarket.geojson (71 серви ).\r\n",
    "Все перечисленные датасеты имски аналогичную структуру, не содержат пропусков, и для дальнейшего анализа буут \r\n",
    "использоваться данные id и geometry из этих датас<br>етов. \r\n",
    "Таким образом, типов точечных сервисов достаточно много, но количество сервисов каждого из типов достаточно ограничено. \r\n",
    "Причем есть типы сервисов, очень похожие с точки зрения потребителей услуг. Например, кафе и рестораны (места общественного питания)\r\n",
    "или торговые центры и супермаркеты (места для покупок). Для сокращения количества признаков и упрощения задачи кластеризации \r\n",
    "принимается решение объединить датасеты с похожими типами сервисов. "
   ]
  },
  {
   "cell_type": "code",
   "execution_count": 9,
   "metadata": {},
   "outputs": [],
   "source": [
    "# Объединение данных о кафе и ресторанах\n",
    "dining_data = pd.concat([cafe_data, gpd.read_file('data/source_data/restaurant.geojson')[['id', 'geometry']]])"
   ]
  },
  {
   "cell_type": "code",
   "execution_count": 10,
   "metadata": {},
   "outputs": [],
   "source": [
    "# Объединение данных о торговых центрах и супермаркетах\n",
    "shopping_data = pd.concat([gpd.read_file('data/source_data/supermarket.geojson')[['id', 'geometry']],\n",
    "                          gpd.read_file('data/source_data/shopping_center.geojson')[['id', 'geometry']]])"
   ]
  },
  {
   "cell_type": "code",
   "execution_count": 11,
   "metadata": {},
   "outputs": [],
   "source": [
    "# Объединение данных о детских садах и школах\n",
    "edu_data = pd.concat([gpd.read_file('data/source_data/kindergarten.geojson')[['id', 'geometry']],\n",
    "                          gpd.read_file('data/source_data/school.geojson')[['id', 'geometry']]])"
   ]
  },
  {
   "cell_type": "code",
   "execution_count": 12,
   "metadata": {},
   "outputs": [],
   "source": [
    "# Объединение данных о поликлинниках и аптеках\n",
    "health_data = pd.concat([gpd.read_file('data/source_data/pharmacy.geojson')[['id', 'geometry']],\n",
    "                          gpd.read_file('data/source_data/polyclinic.geojson')[['id', 'geometry']]])"
   ]
  },
  {
   "cell_type": "code",
   "execution_count": 33,
   "metadata": {},
   "outputs": [],
   "source": [
    "# Объединение данных о музеях и библиотеках\n",
    "culture_data = pd.concat([gpd.read_file('data/source_data/museum.geojson')[['id', 'geometry']],\n",
    "                          gpd.read_file('data/source_data/library.geojson')[['id', 'geometry']]])"
   ]
  },
  {
   "cell_type": "code",
   "execution_count": 14,
   "metadata": {},
   "outputs": [],
   "source": [
    "# Все точечные сервисы объединяются в массив для дальнейшего анализа\n",
    "services_points = [dining_data, shopping_data, edu_data, health_data, culture_data]"
   ]
  },
  {
   "cell_type": "markdown",
   "metadata": {},
   "source": [
    "<b>1.4 Данные о зданиях</b>"
   ]
  },
  {
   "cell_type": "code",
   "execution_count": 18,
   "metadata": {},
   "outputs": [
    {
     "data": {
      "text/html": [
       "<div>\n",
       "<style scoped>\n",
       "    .dataframe tbody tr th:only-of-type {\n",
       "        vertical-align: middle;\n",
       "    }\n",
       "\n",
       "    .dataframe tbody tr th {\n",
       "        vertical-align: top;\n",
       "    }\n",
       "\n",
       "    .dataframe thead th {\n",
       "        text-align: right;\n",
       "    }\n",
       "</style>\n",
       "<table border=\"1\" class=\"dataframe\">\n",
       "  <thead>\n",
       "    <tr style=\"text-align: right;\">\n",
       "      <th></th>\n",
       "      <th>building_id</th>\n",
       "      <th>address</th>\n",
       "      <th>building_date</th>\n",
       "      <th>building_area</th>\n",
       "      <th>living_area</th>\n",
       "      <th>storeys</th>\n",
       "      <th>population</th>\n",
       "      <th>central_heating</th>\n",
       "      <th>lift_count</th>\n",
       "      <th>central_hotwater</th>\n",
       "      <th>central_electricity</th>\n",
       "      <th>central_gas</th>\n",
       "      <th>refusechute</th>\n",
       "      <th>is_living</th>\n",
       "      <th>geometry</th>\n",
       "    </tr>\n",
       "  </thead>\n",
       "  <tbody>\n",
       "    <tr>\n",
       "      <th>4259</th>\n",
       "      <td>122614</td>\n",
       "      <td>г.Санкт-Петербург, набережная Макарова, дом 14...</td>\n",
       "      <td>1823</td>\n",
       "      <td>159.6</td>\n",
       "      <td>32.00</td>\n",
       "      <td>2.0</td>\n",
       "      <td>2.0</td>\n",
       "      <td>True</td>\n",
       "      <td>0.0</td>\n",
       "      <td>True</td>\n",
       "      <td>True</td>\n",
       "      <td>True</td>\n",
       "      <td>True</td>\n",
       "      <td>False</td>\n",
       "      <td>MULTIPOLYGON (((30.28992 59.94590, 30.29008 59...</td>\n",
       "    </tr>\n",
       "    <tr>\n",
       "      <th>4260</th>\n",
       "      <td>122615</td>\n",
       "      <td>г.Санкт-Петербург, 7-я линия В.О., дом 6, лите...</td>\n",
       "      <td>1917</td>\n",
       "      <td>3398.8</td>\n",
       "      <td>1437.85</td>\n",
       "      <td>5.0</td>\n",
       "      <td>63.0</td>\n",
       "      <td>True</td>\n",
       "      <td>NaN</td>\n",
       "      <td>False</td>\n",
       "      <td>True</td>\n",
       "      <td>True</td>\n",
       "      <td>False</td>\n",
       "      <td>False</td>\n",
       "      <td>MULTIPOLYGON (((30.28387 59.93718, 30.28476 59...</td>\n",
       "    </tr>\n",
       "    <tr>\n",
       "      <th>4261</th>\n",
       "      <td>122616</td>\n",
       "      <td>г.Санкт-Петербург, Средний проспект В.О., дом ...</td>\n",
       "      <td>2011</td>\n",
       "      <td>89327.9</td>\n",
       "      <td>46407.50</td>\n",
       "      <td>16.0</td>\n",
       "      <td>2900.0</td>\n",
       "      <td>True</td>\n",
       "      <td>20.0</td>\n",
       "      <td>True</td>\n",
       "      <td>True</td>\n",
       "      <td>False</td>\n",
       "      <td>False</td>\n",
       "      <td>True</td>\n",
       "      <td>MULTIPOLYGON (((30.25126 59.93804, 30.25180 59...</td>\n",
       "    </tr>\n",
       "  </tbody>\n",
       "</table>\n",
       "</div>"
      ],
      "text/plain": [
       "      building_id                                            address  \\\n",
       "4259       122614  г.Санкт-Петербург, набережная Макарова, дом 14...   \n",
       "4260       122615  г.Санкт-Петербург, 7-я линия В.О., дом 6, лите...   \n",
       "4261       122616  г.Санкт-Петербург, Средний проспект В.О., дом ...   \n",
       "\n",
       "     building_date  building_area  living_area  storeys  population  \\\n",
       "4259          1823          159.6        32.00      2.0         2.0   \n",
       "4260          1917         3398.8      1437.85      5.0        63.0   \n",
       "4261          2011        89327.9     46407.50     16.0      2900.0   \n",
       "\n",
       "     central_heating  lift_count central_hotwater central_electricity  \\\n",
       "4259            True         0.0             True                True   \n",
       "4260            True         NaN            False                True   \n",
       "4261            True        20.0             True                True   \n",
       "\n",
       "     central_gas refusechute  is_living  \\\n",
       "4259        True        True      False   \n",
       "4260        True       False      False   \n",
       "4261       False       False       True   \n",
       "\n",
       "                                               geometry  \n",
       "4259  MULTIPOLYGON (((30.28992 59.94590, 30.29008 59...  \n",
       "4260  MULTIPOLYGON (((30.28387 59.93718, 30.28476 59...  \n",
       "4261  MULTIPOLYGON (((30.25126 59.93804, 30.25180 59...  "
      ]
     },
     "execution_count": 18,
     "metadata": {},
     "output_type": "execute_result"
    }
   ],
   "source": [
    "buildings_data = gpd.read_file('data/source_data/building.geojson')\n",
    "buildings_data.tail(3)"
   ]
  },
  {
   "cell_type": "markdown",
   "metadata": {},
   "source": [
    "В задаче требуется анализировать расположение только жилых зданий в кварталах, поскольку в датасете building.geojson нет \r\n",
    "информации о функциональной принадлежности нежилых зданий (какие сервисы в них находятся). Поэтому требуется отфильтровать \r\n",
    "в датасете жилые здания. После первоначального ознакомления с датасетом можно предположить, что отфильтровать следует\r\n",
    "по признаку is_living = True. Однако при этом можно наблюдать, что у зданий с признаком is_living = False могут присутствовать \r\n",
    "сведения о количестве жильцов в доме (population), а также о жилой площади (living_area)."
   ]
  },
  {
   "cell_type": "code",
   "execution_count": 28,
   "metadata": {},
   "outputs": [
    {
     "data": {
      "text/plain": [
       "(4262, 15)"
      ]
     },
     "execution_count": 28,
     "metadata": {},
     "output_type": "execute_result"
    }
   ],
   "source": [
    "buildings_data.shape"
   ]
  },
  {
   "cell_type": "code",
   "execution_count": 19,
   "metadata": {},
   "outputs": [
    {
     "data": {
      "text/html": [
       "<div>\n",
       "<style scoped>\n",
       "    .dataframe tbody tr th:only-of-type {\n",
       "        vertical-align: middle;\n",
       "    }\n",
       "\n",
       "    .dataframe tbody tr th {\n",
       "        vertical-align: top;\n",
       "    }\n",
       "\n",
       "    .dataframe thead th {\n",
       "        text-align: right;\n",
       "    }\n",
       "</style>\n",
       "<table border=\"1\" class=\"dataframe\">\n",
       "  <thead>\n",
       "    <tr style=\"text-align: right;\">\n",
       "      <th></th>\n",
       "      <th>building_id</th>\n",
       "      <th>population</th>\n",
       "      <th>living_area</th>\n",
       "      <th>is_living</th>\n",
       "    </tr>\n",
       "  </thead>\n",
       "  <tbody>\n",
       "    <tr>\n",
       "      <th>27</th>\n",
       "      <td>32990</td>\n",
       "      <td>1122.0</td>\n",
       "      <td>17958.0</td>\n",
       "      <td>False</td>\n",
       "    </tr>\n",
       "    <tr>\n",
       "      <th>28</th>\n",
       "      <td>33114</td>\n",
       "      <td>1831.0</td>\n",
       "      <td>29294.3</td>\n",
       "      <td>False</td>\n",
       "    </tr>\n",
       "    <tr>\n",
       "      <th>29</th>\n",
       "      <td>33175</td>\n",
       "      <td>151.0</td>\n",
       "      <td>2422.5</td>\n",
       "      <td>True</td>\n",
       "    </tr>\n",
       "    <tr>\n",
       "      <th>31</th>\n",
       "      <td>33212</td>\n",
       "      <td>1702.0</td>\n",
       "      <td>27227.9</td>\n",
       "      <td>False</td>\n",
       "    </tr>\n",
       "    <tr>\n",
       "      <th>33</th>\n",
       "      <td>33294</td>\n",
       "      <td>427.0</td>\n",
       "      <td>6830.8</td>\n",
       "      <td>False</td>\n",
       "    </tr>\n",
       "  </tbody>\n",
       "</table>\n",
       "</div>"
      ],
      "text/plain": [
       "    building_id  population  living_area  is_living\n",
       "27        32990      1122.0      17958.0      False\n",
       "28        33114      1831.0      29294.3      False\n",
       "29        33175       151.0       2422.5       True\n",
       "31        33212      1702.0      27227.9      False\n",
       "33        33294       427.0       6830.8      False"
      ]
     },
     "execution_count": 19,
     "metadata": {},
     "output_type": "execute_result"
    }
   ],
   "source": [
    "buildings_data[buildings_data.population.notnull()][['building_id', 'population', 'living_area', 'is_living']].head()"
   ]
  },
  {
   "cell_type": "code",
   "execution_count": 20,
   "metadata": {},
   "outputs": [],
   "source": [
    "# В связи с этим жилые здания в датасете отфильтрованы с учетом трёх признаков: is_living, population, living_area\n",
    "living_builds = buildings_data.loc[(buildings_data.population.notnull()) | (buildings_data.living_area.notnull()) | (buildings_data.is_living == True)]"
   ]
  },
  {
   "cell_type": "code",
   "execution_count": 25,
   "metadata": {},
   "outputs": [
    {
     "data": {
      "text/html": [
       "<div>\n",
       "<style scoped>\n",
       "    .dataframe tbody tr th:only-of-type {\n",
       "        vertical-align: middle;\n",
       "    }\n",
       "\n",
       "    .dataframe tbody tr th {\n",
       "        vertical-align: top;\n",
       "    }\n",
       "\n",
       "    .dataframe thead th {\n",
       "        text-align: right;\n",
       "    }\n",
       "</style>\n",
       "<table border=\"1\" class=\"dataframe\">\n",
       "  <thead>\n",
       "    <tr style=\"text-align: right;\">\n",
       "      <th></th>\n",
       "      <th>building_id</th>\n",
       "      <th>population</th>\n",
       "      <th>living_area</th>\n",
       "      <th>is_living</th>\n",
       "    </tr>\n",
       "  </thead>\n",
       "  <tbody>\n",
       "    <tr>\n",
       "      <th>13</th>\n",
       "      <td>32353</td>\n",
       "      <td>NaN</td>\n",
       "      <td>NaN</td>\n",
       "      <td>True</td>\n",
       "    </tr>\n",
       "    <tr>\n",
       "      <th>14</th>\n",
       "      <td>32353</td>\n",
       "      <td>NaN</td>\n",
       "      <td>NaN</td>\n",
       "      <td>True</td>\n",
       "    </tr>\n",
       "    <tr>\n",
       "      <th>26</th>\n",
       "      <td>32627</td>\n",
       "      <td>NaN</td>\n",
       "      <td>NaN</td>\n",
       "      <td>True</td>\n",
       "    </tr>\n",
       "    <tr>\n",
       "      <th>37</th>\n",
       "      <td>33505</td>\n",
       "      <td>NaN</td>\n",
       "      <td>NaN</td>\n",
       "      <td>True</td>\n",
       "    </tr>\n",
       "    <tr>\n",
       "      <th>38</th>\n",
       "      <td>33505</td>\n",
       "      <td>NaN</td>\n",
       "      <td>NaN</td>\n",
       "      <td>True</td>\n",
       "    </tr>\n",
       "    <tr>\n",
       "      <th>39</th>\n",
       "      <td>33505</td>\n",
       "      <td>NaN</td>\n",
       "      <td>NaN</td>\n",
       "      <td>True</td>\n",
       "    </tr>\n",
       "    <tr>\n",
       "      <th>40</th>\n",
       "      <td>33505</td>\n",
       "      <td>NaN</td>\n",
       "      <td>NaN</td>\n",
       "      <td>True</td>\n",
       "    </tr>\n",
       "    <tr>\n",
       "      <th>41</th>\n",
       "      <td>33505</td>\n",
       "      <td>NaN</td>\n",
       "      <td>NaN</td>\n",
       "      <td>True</td>\n",
       "    </tr>\n",
       "    <tr>\n",
       "      <th>42</th>\n",
       "      <td>33505</td>\n",
       "      <td>NaN</td>\n",
       "      <td>NaN</td>\n",
       "      <td>True</td>\n",
       "    </tr>\n",
       "    <tr>\n",
       "      <th>64</th>\n",
       "      <td>33951</td>\n",
       "      <td>NaN</td>\n",
       "      <td>NaN</td>\n",
       "      <td>True</td>\n",
       "    </tr>\n",
       "  </tbody>\n",
       "</table>\n",
       "</div>"
      ],
      "text/plain": [
       "    building_id  population  living_area  is_living\n",
       "13        32353         NaN          NaN       True\n",
       "14        32353         NaN          NaN       True\n",
       "26        32627         NaN          NaN       True\n",
       "37        33505         NaN          NaN       True\n",
       "38        33505         NaN          NaN       True\n",
       "39        33505         NaN          NaN       True\n",
       "40        33505         NaN          NaN       True\n",
       "41        33505         NaN          NaN       True\n",
       "42        33505         NaN          NaN       True\n",
       "64        33951         NaN          NaN       True"
      ]
     },
     "execution_count": 25,
     "metadata": {},
     "output_type": "execute_result"
    }
   ],
   "source": [
    "# Дальнейший анализ показал, что в датасете с жилыми зданиями есть записи с дублирующимися идентификаторами зданий\n",
    "living_builds[living_builds.duplicated(subset=['building_id'])][['building_id', 'population', 'living_area', 'is_living']].head(10)"
   ]
  },
  {
   "cell_type": "code",
   "execution_count": 27,
   "metadata": {},
   "outputs": [
    {
     "data": {
      "text/plain": [
       "(1903, 15)"
      ]
     },
     "execution_count": 27,
     "metadata": {},
     "output_type": "execute_result"
    }
   ],
   "source": [
    "# Предполагается, что наличие дублирующихся идентификаторов зданий обусловлено некачественно выполненной выгрузкой исходных данных\n",
    "# Дубликаты записей исключаются из датасета\n",
    "living_builds = living_builds.drop_duplicates(subset = ['building_id'])\n",
    "living_builds.shape"
   ]
  },
  {
   "cell_type": "code",
   "execution_count": 29,
   "metadata": {},
   "outputs": [
    {
     "name": "stdout",
     "output_type": "stream",
     "text": [
      "<class 'geopandas.geodataframe.GeoDataFrame'>\n",
      "Int64Index: 1903 entries, 10 to 4261\n",
      "Data columns (total 15 columns):\n",
      " #   Column               Non-Null Count  Dtype   \n",
      "---  ------               --------------  -----   \n",
      " 0   building_id          1903 non-null   int64   \n",
      " 1   address              1305 non-null   object  \n",
      " 2   building_date        1199 non-null   object  \n",
      " 3   building_area        1199 non-null   float64 \n",
      " 4   living_area          1199 non-null   float64 \n",
      " 5   storeys              1231 non-null   float64 \n",
      " 6   population           1199 non-null   float64 \n",
      " 7   central_heating      1199 non-null   object  \n",
      " 8   lift_count           513 non-null    float64 \n",
      " 9   central_hotwater     1199 non-null   object  \n",
      " 10  central_electricity  1199 non-null   object  \n",
      " 11  central_gas          1199 non-null   object  \n",
      " 12  refusechute          1199 non-null   object  \n",
      " 13  is_living            1903 non-null   bool    \n",
      " 14  geometry             1903 non-null   geometry\n",
      "dtypes: bool(1), float64(5), geometry(1), int64(1), object(7)\n",
      "memory usage: 224.9+ KB\n"
     ]
    }
   ],
   "source": [
    "living_builds.info()"
   ]
  },
  {
   "cell_type": "markdown",
   "metadata": {},
   "source": [
    "В датасете living_builds содержится довольно много информации о жилых зданиях. В частности, информация о количестве жителей зданий и количестве этажей, которую можно было бы использовать как характеристику густонаселенности квартала, в котором расположено здание. Однако в данных о количестве жителей и количестве этажей много пропусков (около 40%) и восполнить пропуски без искажения данных не представляется возможным. При этом известно, что Васильевский остров преимущественно застроен многоэтажными зданиями с минимальной малоэтажной застройкой. Поэтому по согласованию с заказчиком исследования для анализа населенности кварталов используются только сведения о геометрии жилых зданий (полигонах), прочие признаки из исследования исключаются."
   ]
  },
  {
   "cell_type": "code",
   "execution_count": 30,
   "metadata": {},
   "outputs": [],
   "source": [
    "living_builds = living_builds[['building_id', 'geometry']]"
   ]
  },
  {
   "cell_type": "markdown",
   "metadata": {},
   "source": [
    "<b>1.5 Данные о прочих \"полигональных\" сервисах</b>"
   ]
  },
  {
   "cell_type": "markdown",
   "metadata": {},
   "source": [
    "Исследовательский анализ показал (эта часть не включается в ноутбук для сокращения его размера), что оставшиеся датасеты содержат данные о сервисах с геометрией полигонов: znop.geojson (607 сервисов) и cemetery.geojson (4 сервиса). Предлагается для сокращения количества признаков объединить датасеты."
   ]
  },
  {
   "cell_type": "code",
   "execution_count": 36,
   "metadata": {},
   "outputs": [],
   "source": [
    "znop_data = pd.concat([gpd.read_file('data/source_data/cemetery.geojson')[['geometry']],\n",
    "                          gpd.read_file('data/source_data/znop.geojson')[['geometry']]])"
   ]
  },
  {
   "cell_type": "code",
   "execution_count": 37,
   "metadata": {},
   "outputs": [],
   "source": [
    "# Все полигональные сервисы объединяются в массив для дальнейшего анализа\n",
    "services_polygons = [living_builds, znop_data]"
   ]
  },
  {
   "cell_type": "markdown",
   "metadata": {},
   "source": [
    "На этом этапе исходные данные исследованы и обработаны. Получен датасет с данными о кварталах и массивы датасетов с данными точечных и полигональных сервисов. Далее на основании имеющихся данных будут сформированы признаки для дальнейшей кластеризации. "
   ]
  },
  {
   "cell_type": "markdown",
   "metadata": {},
   "source": [
    "<b>2 Формирование признаков</b>"
   ]
  },
  {
   "cell_type": "code",
   "execution_count": null,
   "metadata": {},
   "outputs": [],
   "source": []
  },
  {
   "cell_type": "code",
   "execution_count": null,
   "metadata": {},
   "outputs": [],
   "source": []
  },
  {
   "cell_type": "code",
   "execution_count": null,
   "metadata": {},
   "outputs": [],
   "source": []
  },
  {
   "cell_type": "code",
   "execution_count": null,
   "metadata": {},
   "outputs": [],
   "source": []
  }
 ],
 "metadata": {
  "kernelspec": {
   "display_name": "Python 3 (ipykernel)",
   "language": "python",
   "name": "python3"
  },
  "language_info": {
   "codemirror_mode": {
    "name": "ipython",
    "version": 3
   },
   "file_extension": ".py",
   "mimetype": "text/x-python",
   "name": "python",
   "nbconvert_exporter": "python",
   "pygments_lexer": "ipython3",
   "version": "3.9.5"
  }
 },
 "nbformat": 4,
 "nbformat_minor": 4
}
